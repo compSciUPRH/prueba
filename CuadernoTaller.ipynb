{
 "cells": [
  {
   "cell_type": "markdown",
   "metadata": {},
   "source": [
    "# Tutorial de Python con Jupyter Notebook\n",
    "<!--robado de https://facundoq.github.io/courses/aa2018/res/02_python.html-->\n",
    "**Objetivo**: Aprender a realizar programas simples en Python utilizando cuadernos de Jupyter y adquirir conocimiento de programación básica.\n",
    "\n",
    "## Python\n",
    "Python es un lenguaje de programación de alto nivel y orientado a objeto.\n",
    "\n",
    "Se usa en gran diversidad de campos, recientemente se ha convertido en el lenguaje más utilizado para la programación científica, junto con las librerías NumPy (matemáticas eficientes), Matplotlib (visualizar datos) y otras.\n",
    "\n",
    "El tutorial no asume conocimiento de programación ni de Python, pero tampoco explica el lenguaje en detalle. \n",
    "\n",
    "## Cuadernos de Jupyter Notebook\n",
    "La forma tradicional de correr un programa en python es en un terminal con el comando `python nombre.py`, donde nombre.py es un archivo con código fuente python.\n",
    "\n",
    "En lugar de eso, para este taller utilizaremos un servidor de Jupyter Notebook con cuadernos de código. Estos cuadernos (notebooks) nos permiten combinar texto y código, organizados en celdas, lo cual es más cómodo para probar cosas nuevas y documentar lo que hacemos.\n",
    "\n",
    "El servidor de cuadernos nos permite escribir y ejecuta texto y código en las celdas, y pueden salvar el estado de un cuaderno con ctrl+s o en el icono de floppy disk en cualquier momento. Se guarda tanto el código como el resultado de las ejecuciones como texto.\n",
    "\n",
    "## Uso de Cuadernos de Jupyter\n",
    "Los cuadernos tienen dos tipos de celdas, de código y de texto. La celda que estás leyendo es una celda de texto escrita con Markdown, un lenguaje de marcado parecido al que utiliza wikipedia para sus páginas.\n",
    "\n",
    "Las celdas de código son ejecutables, es decir, se pueden correr individualmente (con ctrl+enter o desde el menu >| Run )\n",
    "\n"
   ]
  },
  {
   "cell_type": "code",
   "execution_count": 1,
   "metadata": {},
   "outputs": [
    {
     "name": "stdout",
     "output_type": "stream",
     "text": [
      "Hola Mundo\n",
      "4\n",
      "1 1\n"
     ]
    }
   ],
   "source": [
    "#Este es un comentario porque empieza con #\n",
    "\n",
    "#Esta es una celda de código. \n",
    "\n",
    "#Se ejecuta con ctrl+enter. Pruébalo.\n",
    "#Si estás en un dispositivo touch, >|Run\n",
    "\n",
    "\n",
    "#La función print puede imprimir varias cosas\n",
    "print(\"Hola Mundo\") #impresión de un string, observe que el string tiene \" \"\n",
    "print(4) # impresión de un número\n",
    "print(\"1\", 1) # impresión de un string y de un número "
   ]
  },
  {
   "cell_type": "code",
   "execution_count": null,
   "metadata": {},
   "outputs": [],
   "source": [
    "#Intenta imprimir el string \"IMAGENES\"\n",
    "\n"
   ]
  },
  {
   "cell_type": "markdown",
   "metadata": {},
   "source": [
    "## Variables\n",
    "Las variables son referencias a algún valor. En python, se definen antes de ser utilizadas. Además, (aunque no es recomendable) pueden cambiar si se vuelven a definir."
   ]
  },
  {
   "cell_type": "code",
   "execution_count": 1,
   "metadata": {
    "scrolled": true
   },
   "outputs": [
    {
     "name": "stdout",
     "output_type": "stream",
     "text": [
      "hola\n",
      "5\n",
      "7.5\n"
     ]
    }
   ],
   "source": [
    "x=\"hola\"\n",
    "print(x)\n",
    "\n",
    "x=5\n",
    "print(x)\n",
    "\n",
    "y=x+2.5\n",
    "print(y)"
   ]
  },
  {
   "cell_type": "code",
   "execution_count": null,
   "metadata": {},
   "outputs": [],
   "source": [
    "# crea una variable y luego imprime su contenido\n"
   ]
  },
  {
   "cell_type": "markdown",
   "metadata": {},
   "source": [
    "## Tipos de datos básicos\n",
    "Python tiene los mismos datos básicos que otros lenguajes: enteros, flotantes, strings y booleanos. Además, las listas son un tipo predefinido en el lenguaje.\n",
    "\n",
    "## Números\n",
    "Python tiene soporte para números enteros y de punto flotante (decimales)."
   ]
  },
  {
   "cell_type": "code",
   "execution_count": 2,
   "metadata": {},
   "outputs": [
    {
     "name": "stdout",
     "output_type": "stream",
     "text": [
      "Tipo de x =  <class 'int'>\n",
      "Valor de x=  3\n",
      "x+1 = 4\n",
      "x-1 = 2\n",
      "x*2 = 6\n",
      "x/2 = 1.5\n",
      "x^2 = 9\n",
      "x modificado = 4\n",
      "x modificado = 8\n"
     ]
    }
   ],
   "source": [
    "### Enteros ###\n",
    "\n",
    "x = 3 \n",
    "\n",
    "print(\"Tipo de x = \", type(x)) # Imprime el tipo de x\n",
    "print(\"Valor de x= \", x)       # Imprimir un valor\n",
    "print(\"x+1 =\", x + 1)   # Suma: imprime \"4\"\n",
    "print(\"x-1 =\", x - 1)   # Resta; imprime \"2\"\n",
    "print(\"x*2 =\", x * 2)   # Multiplicación; imprime \"6\"\n",
    "print(\"x/2 =\", x / 2)   # División; imprime \"1.5\"\n",
    "print(\"x^2 =\", x ** 2)  # Exponenciación; imprime \"9\"\n",
    "\n",
    "# Modificación de x \n",
    "#x = x + 1\n",
    "x += 1 \n",
    "print(\"x modificado =\", x)  # Imprime \"4\"\n",
    "\n",
    "x *= 2\n",
    "print(\"x modificado =\", x)  # Imprime \"8\""
   ]
  },
  {
   "cell_type": "markdown",
   "metadata": {},
   "source": [
    "*Calculen* $x = (93.56-1.35)*2.97$ en la celda inferior:"
   ]
  },
  {
   "cell_type": "code",
   "execution_count": 3,
   "metadata": {},
   "outputs": [],
   "source": [
    "# Calcule x aquí:\n"
   ]
  },
  {
   "cell_type": "markdown",
   "metadata": {},
   "source": [
    "## Booleanos\n",
    "Python implementa todos los operadores usuales de la lógica booleana, usando palabras en inglés (and, or, not)\n",
    "\n",
    "and : son ciertas cuando ambos inputs son ciertos  \n",
    "or : son ciertas cuando al menos un input es cierto  \n",
    "not : invierte el input  \n",
    "\n",
    "\n",
    "También tiene los operadores de comparación: <, >, >=, <=, ==, !=  \n",
    "\n",
    "| operador | significado | \n",
    "| --- | --- | \n",
    "| < | menor que |\n",
    "| > | mayor que |\n",
    "| <= | menor o igual que |\n",
    "| >= | mayor o igual que | \n",
    "| == | igual a |\n",
    "| != | no es igual a | \n",
    "| in | se encuentra en | \n",
    "\n",
    "Piensen que cada expresión booleana contesta una pregunta de cierto o falso"
   ]
  },
  {
   "cell_type": "code",
   "execution_count": 7,
   "metadata": {},
   "outputs": [
    {
     "name": "stdout",
     "output_type": "stream",
     "text": [
      "- Valores de v1 y v2:  True False\n",
      "- Tipo de v1: <class 'bool'>\n",
      "- v1 and v2:\n",
      "v1 y v2:  False\n",
      "v1 o v2:  True\n",
      "no v1:  False\n",
      "3==5:  False\n",
      "3 =/= 5:  True\n",
      "3 < 5:  True\n",
      "'calabaza' tiene a? True\n",
      "'calabaza' tiene o? False\n"
     ]
    }
   ],
   "source": [
    "### Booleanos ###\n",
    "\n",
    "v1 = True #el valor verdadero se escribe True \n",
    "v2 = False #el valor no-verdadero se escribe False\n",
    "\n",
    "print(\"- Valores de v1 y v2: \",v1,v2)\n",
    "\n",
    "print(\"- Tipo de v1:\", type(v1)) # Imprime la clase de un valor booleano ('bool')\n",
    "\n",
    "print(\"- v1 and v2:\")\n",
    "print(\"v1 y v2: \", v1 and v2) # y lógico; imprime False\n",
    "print(\"v1 o v2: \", v1 or v2)  # o lógico; imprime True\n",
    "print(\"no v1: \", not v1)   # negación lógica, imprime False\n",
    "\n",
    "print(\"3==5: \",3 == 5)  # Imprime False ya que son distintos\n",
    "print(\"3 =/= 5: \",3 != 5)  # Imprime True ya que son distintos\n",
    "print(\"3 < 5: \", 3 < 5)  # Imprime True ya que 3 es menor que 5\n",
    "\n",
    "print(\"'calabaza' tiene a?\",\"a\" in \"calabaza\")\n",
    "print(\"'calabaza' tiene o?\",\"o\" in \"calabaza\")"
   ]
  },
  {
   "cell_type": "code",
   "execution_count": null,
   "metadata": {},
   "outputs": [],
   "source": [
    "# Cree una variable booleana a partir de una expresión\n",
    "\n"
   ]
  },
  {
   "cell_type": "markdown",
   "metadata": {},
   "source": [
    "## Listas\n",
    "Python tiene soporte para listas como un tipo predefinido del lenguaje. Al igual que una lista de compras, tiene varias entradas. Para crear una lista basta con poner valores\n",
    "entre \\[ \\] (corchetes) y separarlas con , (comas).\n",
    "\n"
   ]
  },
  {
   "cell_type": "code",
   "execution_count": 2,
   "metadata": {},
   "outputs": [
    {
     "name": "stdout",
     "output_type": "stream",
     "text": [
      "- Lista con 4 números:\n",
      "[57, 45, 7, 13]\n",
      "- Lista con 3 strings:\n",
      "['pan', 'leche', 'jugo']\n",
      "- Longitud de la lista:\n",
      "4\n",
      "3\n"
     ]
    }
   ],
   "source": [
    "print(\"- Lista con 4 números:\")\n",
    "a=[57,45,7,13] # una lista con cuatro números\n",
    "print(a)\n",
    "\n",
    "print(\"- Lista con 3 strings:\")\n",
    "b=[\"pan\",\"leche\",\"jugo\"] # una lista con tres strings\n",
    "print(b)\n",
    "\n",
    "# la función `len` me da la longitud de la lista\n",
    "print(\"- Longitud de la lista:\")\n",
    "n=len(a)\n",
    "print(n)\n",
    "print(len(b))"
   ]
  },
  {
   "cell_type": "code",
   "execution_count": 3,
   "metadata": {},
   "outputs": [
    {
     "name": "stdout",
     "output_type": "stream",
     "text": [
      "- Elemento con índice 0 de la lista:\n",
      "pan\n",
      "- Elemento con índice 1 de la lista:\n",
      "leche\n",
      "- Elemento con índice 2 de la lista:\n",
      "jugo\n"
     ]
    }
   ],
   "source": [
    "#Para acceder a sus elementos, se utiliza el []\n",
    "# Los índices comienzan en 0\n",
    "print(\"- Elemento con índice 0 de la lista:\")\n",
    "print(b[0])\n",
    "print(\"- Elemento con índice 1 de la lista:\")\n",
    "print(b[1])\n",
    "print(\"- Elemento con índice 2 de la lista:\")\n",
    "print(b[2])"
   ]
  },
  {
   "cell_type": "code",
   "execution_count": 4,
   "metadata": {},
   "outputs": [
    {
     "name": "stdout",
     "output_type": "stream",
     "text": [
      "Lista vacía:\n",
      "[]\n",
      "- Elementos del índice 0 al 1 (2-1):\n",
      "[57, 45]\n",
      "- Elementos del índice 1 al 3 (4-1):\n",
      "[45, 7, 13]\n",
      "- Elementos desde el comienzo al indice 1 (2-1) :\n",
      "[57, 45]\n",
      "- Elementos desde el indice 1 hasta el final:\n",
      "[45, 7, 13]\n",
      "- Todos los elementos:\n",
      "[57, 45, 7, 13]\n",
      "- Rango vacío -> lista vacía:\n",
      "[]\n"
     ]
    }
   ],
   "source": [
    "# para crear una lista vacía, (sin elementos), simplemente ponemos []\n",
    "vacia=[]\n",
    "print(\"Lista vacía:\")\n",
    "print(vacia)\n",
    "\n",
    "# También podemos crear una sub-lista o slice especificando un rango de indices\n",
    "print(\"- Elementos del índice 0 al 1 (2-1):\")\n",
    "print(a[0:2])\n",
    "print(\"- Elementos del índice 1 al 3 (4-1):\")\n",
    "print(a[1:4])\n",
    "#Si pones nada antes del : se asume que pusiste 0\n",
    "print(\"- Elementos desde el comienzo al indice 1 (2-1) :\")\n",
    "print(a[:2])\n",
    "#Si no ponés nada después del : se asume que tomarás todos hasta el final\n",
    "print(\"- Elementos desde el indice 1 hasta el final:\")\n",
    "print(a[1:])\n",
    "\n",
    "#Si no pones nada ni antes ni después es como tomar todo\n",
    "print(\"- Todos los elementos:\")\n",
    "print(a[:])\n",
    "\n",
    "\n",
    "#Si el fin es igual al comienzo, es un rango vacío, por ende se obtiene una lista vacía\n",
    "print(\"- Rango vacío -> lista vacía:\")\n",
    "print(a[2:2])"
   ]
  },
  {
   "cell_type": "code",
   "execution_count": null,
   "metadata": {},
   "outputs": [],
   "source": [
    "#Cree una lista de 4 numeros, \n",
    "# y use : (slice) para obtener los primeros 2 elementos\n",
    "\n",
    "\n"
   ]
  },
  {
   "cell_type": "markdown",
   "metadata": {},
   "source": [
    "## Una lista es un objeto\n",
    "Python permite definir y crear objetos, pero esos temas están fuera de este tutorial. No obstante, una lista es un objeto, y tiene varios métodos. Entre ellos está el método `append`, que permite agregar un elemento al final de la lista. Los métodos se invocan de la siguiente forma `objeto.metodo(parámetro1, parámetro2,...)`."
   ]
  },
  {
   "cell_type": "code",
   "execution_count": 6,
   "metadata": {},
   "outputs": [
    {
     "name": "stdout",
     "output_type": "stream",
     "text": [
      "- Una lista con 3 strings:\n",
      "['una', 'lista', 'de']\n",
      "- La misma lista luego de agregarle un string más:\n",
      "['una', 'lista', 'de', 'strings']\n",
      "- La misma lista luego de invertir el orden\n",
      "['strings', 'de', 'lista', 'una']\n"
     ]
    }
   ],
   "source": [
    "#le puedes agregar elementos a una lista con el método `append`\n",
    "print(\"- Una lista con 3 strings:\")\n",
    "a=['una','lista','de']\n",
    "print(a)\n",
    "\n",
    "print(\"- La misma lista luego de agregarle un string más:\")\n",
    "a.append('strings')\n",
    "print(a)\n",
    "\n",
    "print(\"- La misma lista luego de invertir el orden\")\n",
    "a.reverse()\n",
    "print(a)\n",
    "\n"
   ]
  },
  {
   "cell_type": "code",
   "execution_count": null,
   "metadata": {},
   "outputs": [],
   "source": [
    "# .sort() es un método de las listas para ordenarlas\n",
    "# Úselo para ordenar esta lista:\n",
    "\n",
    "nums = [9,7,6,3,4,1,2]\n",
    "\n"
   ]
  },
  {
   "cell_type": "markdown",
   "metadata": {},
   "source": [
    "## Estructuras de control\n",
    "En Python la indentación (espacio antes del texto de una linea) marca el comienzo y fin de un bloque. La indentación por defecto son 4 espacios en blanco.\n",
    "\n",
    "Entonces va a ser necesario indentar correctamente para utilizar estructuras como if o for.\n",
    "\n",
    "### if\n",
    "La primera linea del if termina con :\n",
    "\n",
    "Su sintaxis es:\n",
    "```python\n",
    "if condicion :\n",
    "    cuerpo de if (indentado con 4 espacios)\n",
    "else:\n",
    "    cuerpo de else (indentado con 4 espacios)\n",
    "```"
   ]
  },
  {
   "cell_type": "code",
   "execution_count": 8,
   "metadata": {},
   "outputs": [
    {
     "name": "stdout",
     "output_type": "stream",
     "text": [
      "La persona es\n",
      "Mayor\n",
      "De edad\n"
     ]
    }
   ],
   "source": [
    "edad = 25\n",
    "\n",
    "print(\"La persona es\")\n",
    "if edad < 18: # el if termina con : para indicar donde acaba la condición\n",
    "    # el print va indentado con 4 espacios para indicar que está dentro del\n",
    "    # cuerpo del if\n",
    "    print(\"Menor\") \n",
    "else:\n",
    "    #Lo mismo con este print\n",
    "    print(\"Mayor\")\n",
    "    \n",
    "print(\"De edad\")\n",
    "\n",
    "if 1 == 0:\n",
    "    print(\"Las matematicas estan mal\") \n"
   ]
  },
  {
   "cell_type": "code",
   "execution_count": null,
   "metadata": {},
   "outputs": [],
   "source": [
    "# Usen un if para decir si calabaza tiene una d (impriman \"si\" o \"no\")\n",
    "letra = \"d\"\n",
    "palabra = \"calabaza\"\n",
    "\n"
   ]
  },
  {
   "cell_type": "markdown",
   "metadata": {},
   "source": [
    "## For\n",
    "La sintaxis de los `for` es parecida a la de los `if`, pero tienen la sintaxis:\n",
    "```python\n",
    "for variable in lista:\n",
    "    hacer algo\n",
    "```\n",
    "\n",
    "En este caso, variable es la variable que va a ir cambiando, y lista es una lista de python (o un iterable parecido)"
   ]
  },
  {
   "cell_type": "code",
   "execution_count": 1,
   "metadata": {},
   "outputs": [
    {
     "name": "stdout",
     "output_type": "stream",
     "text": [
      "- Impresion de los elementos de la lista:\n",
      "img\n",
      "python\n",
      "numpy\n",
      "- La suma de los números es:\n",
      "42\n"
     ]
    }
   ],
   "source": [
    "print(\"- Impresion de los elementos de la lista:\")\n",
    "\n",
    "# Imprimir los strings de mi_lista por separado\n",
    "mi_lista=[\"img\",\"python\",\"numpy\"]\n",
    "for s in mi_lista:\n",
    "    print(s)# este print va con indentación\n",
    "    \n",
    "#calcular la suma de los números e imprimirla\n",
    "suma=0\n",
    "mis_numeros=[5,8,17,12]\n",
    "for numero in mis_numeros:\n",
    "    suma += numero\n",
    "print(\"- La suma de los números es:\")\n",
    "print(suma)"
   ]
  },
  {
   "cell_type": "markdown",
   "metadata": {},
   "source": [
    "Cuando no tenemos una lista y queremos hacer un `for` \"común\" y que la variable que cambia sea un número que va incrementándose, podemos utilizar la función `range`.\n",
    "\n"
   ]
  },
  {
   "cell_type": "code",
   "execution_count": 2,
   "metadata": {},
   "outputs": [
    {
     "name": "stdout",
     "output_type": "stream",
     "text": [
      "Un for de 0 a 3\n",
      "0\n",
      "1\n",
      "2\n",
      "3\n",
      "- Un for de 2 a 5:\n",
      "2\n",
      "3\n",
      "4\n",
      "5\n"
     ]
    }
   ],
   "source": [
    "#un for de 0 a 3, para imprimir esos valores\n",
    "print(\"Un for de 0 a 3\")\n",
    "for i in range(4):\n",
    "    print(i)\n",
    "    \n",
    "#En Python los índices comienzan en 0, y por eso los rangos también.\n",
    "    \n",
    "\n",
    "#También se puede comenzar el rango en otro valor en lugar de 0\n",
    "print(\"- Un for de 2 a 5:\")\n",
    "for j in range(2,6):\n",
    "    print(j)"
   ]
  },
  {
   "cell_type": "code",
   "execution_count": null,
   "metadata": {},
   "outputs": [],
   "source": [
    "#Ejercicio: Escribir un for para buscar el máximo de la lista e imprimirlo\n",
    "lista=[6,4,2,5,3,1,9,7,8,10]\n",
    "maximo=0\n",
    "# IMPLEMENTAR\n",
    "\n",
    "\n",
    "\n",
    "\n",
    "#no cambien la parte de abajo\n",
    "print(\"- El maximo es:\")\n",
    "print(maximo)"
   ]
  },
  {
   "cell_type": "markdown",
   "metadata": {},
   "source": [
    "## Funcionalidad adicional\n",
    "Podemos reciclar grandes cantidades de código usando módulos \n",
    "\n",
    "### módulos estándares\n",
    "Son módulos que se incluyen en la instalación estándar de Python\n",
    "\n",
    "### módulos externos\n",
    "Son módulos que deben ser instalados manualmente, o se incluyen en una instalación especial de Python\n",
    "\n",
    "Durante este taller no haremos distinción entre módulos estándares y módulos externos, pero deben tenerlo en mente si quieren instalarlo en sus propias máquinas. \n",
    "\n",
    "## incluir módulos\n",
    "Para incluir un módulo hay varias maneras:\n",
    "```python\n",
    "import modulo\n",
    "import modulo as nombre\n",
    "import modulo.submodulo as nombre\n",
    "```\n",
    "para incluir un objeto en particular de un módulo:\n",
    "```python\n",
    "from modulo import objeto\n",
    "```\n",
    "\n",
    "Usaremos los módulos que mencionamos al principio como ejemplo"
   ]
  },
  {
   "cell_type": "code",
   "execution_count": 2,
   "metadata": {},
   "outputs": [],
   "source": [
    "import numpy as np\n",
    "import matplotlib.pyplot as plt"
   ]
  },
  {
   "cell_type": "markdown",
   "metadata": {},
   "source": [
    "## Para usar los módulos\n",
    "\n",
    "```\n",
    "modulo.metodo()\n",
    "ó\n",
    "modulo.objeto\n",
    "```"
   ]
  },
  {
   "cell_type": "code",
   "execution_count": 5,
   "metadata": {},
   "outputs": [
    {
     "data": {
      "text/plain": [
       "[<matplotlib.lines.Line2D at 0x7fbb9ee7ddd8>]"
      ]
     },
     "execution_count": 5,
     "metadata": {},
     "output_type": "execute_result"
    },
    {
     "data": {
      "image/png": "[encoded data removed]",
      "text/plain": [
       "<Figure size 432x288 with 1 Axes>"
      ]
     },
     "metadata": {
      "needs_background": "light"
     },
     "output_type": "display_data"
    }
   ],
   "source": [
    "x = np.linspace(0,4,4)\n",
    "y = np.power(2,x)\n",
    "\n",
    "plt.plot(x,y)\n"
   ]
  },
  {
   "cell_type": "code",
   "execution_count": null,
   "metadata": {},
   "outputs": [],
   "source": [
    "# Usando el ejemplo anterior, grafiquen la funcion \n",
    "# .exp(x) que está en numpy"
   ]
  },
  {
   "cell_type": "code",
   "execution_count": null,
   "metadata": {},
   "outputs": [],
   "source": []
  },
  {
   "cell_type": "code",
   "execution_count": null,
   "metadata": {},
   "outputs": [],
   "source": []
  }
 ],
 "metadata": {
  "kernelspec": {
   "display_name": "Python 3",
   "language": "python",
   "name": "python3"
  },
  "language_info": {
   "codemirror_mode": {
    "name": "ipython",
    "version": 3
   },
   "file_extension": ".py",
   "mimetype": "text/x-python",
   "name": "python",
   "nbconvert_exporter": "python",
   "pygments_lexer": "ipython3",
   "version": "3.8.5"
  }
 },
 "nbformat": 4,
 "nbformat_minor": 4
}
